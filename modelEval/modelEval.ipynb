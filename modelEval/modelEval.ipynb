{
 "cells": [
  {
   "cell_type": "markdown",
   "metadata": {},
   "source": [
    "# Model Evaluation"
   ]
  },
  {
   "cell_type": "code",
   "execution_count": 1,
   "metadata": {},
   "outputs": [],
   "source": [
    "import pandas as pd\n",
    "import warnings\n",
    "warnings.filterwarnings('ignore')\n",
    "from sklearn.metrics import accuracy_score"
   ]
  },
  {
   "cell_type": "markdown",
   "metadata": {},
   "source": [
    "## Function - featureEng()"
   ]
  },
  {
   "cell_type": "code",
   "execution_count": 2,
   "metadata": {},
   "outputs": [],
   "source": [
    "# @param X: pandas.DataFrame\n",
    "# @param featureSel: int\n",
    "# @return X: pandas.DataFrame\n",
    "def featureEng(X, featureSel=None):\n",
    "    # Feature Engineering\n",
    "    if not featureSel or featureSel == 0:\n",
    "        return X\n",
    "    if featureSel == 1:\n",
    "        X['PTS_DIFF'] = X['PTS_A'] - X['PTS_B']\n",
    "    elif featureSel == 2:\n",
    "        attriToDrop = ['PTS_A', 'PTS_B']\n",
    "        X = X.drop(columns=attriToDrop)\n",
    "    elif featureSel == 3:\n",
    "        X['PTS_DIFF'] = X['PTS_A'] - X['PTS_B']\n",
    "        attriToDrop = ['PTS_A', 'PTS_B']\n",
    "        X = X.drop(columns=attriToDrop)\n",
    "    elif featureSel == 4:\n",
    "        attriToDrop = [\n",
    "            'FGM_A', 'FGA_A', '3PM_A', '3PA_A', 'FTM_A', 'FTA_A', 'OREB_A', 'DREB_A', 'PF_A', \n",
    "            'FGM_B', 'FGA_B', '3PM_B', '3PA_B', 'FTM_B', 'FTA_B', 'OREB_B', 'DREB_B', 'PF_B'\n",
    "        ]\n",
    "        X['PTS_DIFF'] = X['PTS_A'] - X['PTS_B']\n",
    "        X['STL+BLK_A'] = X['STL_A'] + X['BLK_A']\n",
    "        X['STL+BLK_B'] = X['STL_B'] + X['BLK_B']\n",
    "        attriToDrop += ['PTS_A', 'PTS_B', 'STL_A', 'STL_B', 'BLK_A', 'BLK_B']\n",
    "        X = X.drop(columns=attriToDrop)\n",
    "    return X"
   ]
  },
  {
   "cell_type": "markdown",
   "metadata": {},
   "source": [
    "## Function - attriGen()"
   ]
  },
  {
   "cell_type": "code",
   "execution_count": 3,
   "metadata": {},
   "outputs": [],
   "source": [
    "# @param dfFile: pandas.DataFrame (from 'nba_preprocessed.csv')\n",
    "# @param date: str in the format of 'YYYY-MM-DD'\n",
    "# @param period: int (Number of previous games to be considered)\n",
    "# @param Team_A, Team_B: str\n",
    "# @param homeAway: int (None for played game prediction)\n",
    "# @param featureSel: int\n",
    "# @return X: pandas.DataFrame\n",
    "def attriGen(df, date, period, Team_A, Team_B, homeAway=None, featureSel=None):\n",
    "    # True Home/Away at the game day\n",
    "    if homeAway is None:\n",
    "        df_gameDay = df.loc[(df.Date_A == date) & (df.Team_A == Team_A) & (df.Team_B == Team_B), :].reset_index(drop=True)\n",
    "        homeAway = int(df_gameDay['Home/Away_A'])\n",
    "    \n",
    "    # Date selections\n",
    "    df = df.loc[df.Date_A < date, :].reset_index(drop=True)\n",
    "    X_A = df.loc[(df.Team_A == Team_A), :].sort_values(by=['Date_A'], ascending=False).iloc[0:period, 0:24].reset_index(drop=True)\n",
    "    X_B = df.loc[(df.Team_A == Team_B), :].sort_values(by=['Date_A'], ascending=False).iloc[0:period, 0:24].reset_index(drop=True)\n",
    "    \n",
    "    # Drop unnecessary attributes\n",
    "    colToDrop = ['Home/Away_A'] + ['Team_A', 'Date_A', 'W/L_A', 'Score_A', 'Opponent_A']\n",
    "    X_A = X_A.drop(columns=colToDrop)\n",
    "    X_B = X_B.drop(columns=colToDrop)\n",
    "    \n",
    "    # Rename X_away's columns\n",
    "    X_B = X_B.rename(columns=lambda x: x[0:-2] + '_B')\n",
    "    \n",
    "    # Get X = [Home/Away_A + X_A + X_B]\n",
    "    X = pd.DataFrame(data=pd.concat([X_A.mean(), X_B.mean()])).transpose()\n",
    "    X = pd.concat([pd.DataFrame(data={'Home/Away_A': [homeAway]}), X], axis=1)\n",
    "    \n",
    "    # Feature Engineering\n",
    "    X = featureEng(X, featureSel)\n",
    "    \n",
    "    return X"
   ]
  },
  {
   "cell_type": "markdown",
   "metadata": {},
   "source": [
    "## Function - groundTruthGen()"
   ]
  },
  {
   "cell_type": "code",
   "execution_count": 4,
   "metadata": {},
   "outputs": [],
   "source": [
    "# @param dfFile: pandas.DataFrame (from 'nba_preprocessed.csv')\n",
    "# @param date: str in the format of 'YYYY-MM-DD'\n",
    "# @param Team_A, Team_B: str\n",
    "# @param featureSel: int\n",
    "# @return X_groundTruth, Y_groundTruth: pandas.DataFrame\n",
    "def groundTruthGen(df, date, Team_A, Team_B, featureSel=None):\n",
    "    # Date selections\n",
    "    df = df.loc[(df.Date_A == date) & (df.Team_A == Team_A) & (df.Team_B == Team_B), :].reset_index(drop=True)\n",
    "\n",
    "    # Get label Y\n",
    "    Y_groundTruth = df[['W/L_A']]\n",
    "    Y_groundTruth = Y_groundTruth.rename(columns={'W/L_A': 'Label'})\n",
    "    \n",
    "    # Drop unnecessary attributes\n",
    "    colToDrop = [\n",
    "        'Team_A', 'Date_A', 'W/L_A', 'Score_A', 'Opponent_A', \n",
    "        'Team_B', 'Date_B', 'W/L_B', 'Home/Away_B', 'Score_B', 'Opponent_B'\n",
    "    ]\n",
    "    X_groundTruth = df.drop(columns=colToDrop)\n",
    "    \n",
    "    # Feature Engineering\n",
    "    X_groundTruth = featureEng(X_groundTruth, featureSel)\n",
    "    \n",
    "    return X_groundTruth, Y_groundTruth"
   ]
  },
  {
   "cell_type": "markdown",
   "metadata": {},
   "source": [
    "## Function - gameAttriGen()"
   ]
  },
  {
   "cell_type": "code",
   "execution_count": 5,
   "metadata": {},
   "outputs": [],
   "source": [
    "# @param dfFile: pandas.DataFrame ('nba_preprocessed.csv')\n",
    "# @param dateStart, dateEnd: str in the format of 'YYYY-MM-DD'\n",
    "# @param period: int\n",
    "# @param Team_A, Team_B: str (If both are None, predict all games within the date range)\n",
    "# @param featureSel: int\n",
    "# @return X, Y: pandas.DataFrame\n",
    "# gameAttriGen() outputs X_attri, Y_truth for game prediction.\n",
    "def gameAttriGen(dfFile, dateStart, dateEnd, period=5, Team_A=None, Team_B=None, featureSel=None):\n",
    "    df = pd.read_csv(dfFile)\n",
    "    \n",
    "    # Date selections\n",
    "    df_sel = df.loc[(df.Date_A >= dateStart) & (df.Date_A <= dateEnd), :].reset_index(drop=True)\n",
    "    \n",
    "    # Generate df_sel which includes [date, Team_A, Team_B] columns\n",
    "    if Team_A and Team_B:\n",
    "        df_sel = df_sel.loc[(df_sel.Team_A == Team_A) & (df_sel.Opponent_A == Team_B), :].reset_index(drop=True)[['Date_A', 'Team_A', 'Opponent_A']]\n",
    "    elif Team_A and not Team_B:\n",
    "        df_sel = df_sel.loc[df_sel.Team_A == Team_A, :].reset_index(drop=True)[['Date_A', 'Team_A', 'Opponent_A']]\n",
    "    elif not Team_A and Team_B:\n",
    "        df_sel = df_sel.loc[df_sel.Opponent_A == Team_B, :].reset_index(drop=True)[['Date_A', 'Team_A', 'Opponent_A']]\n",
    "    elif not Team_A and not Team_B:\n",
    "        df_sel = df_sel[['Date_A', 'Team_A', 'Opponent_A']]\n",
    "        # Delete duplicates: (Team_A vs Team_B) is the same as (Team_B vs Team_A). Remove one to avoid double count.\n",
    "        df_new = pd.DataFrame(columns=['Date_A', 'Team_A', 'Opponent_A'])\n",
    "        LUT = {}\n",
    "        for date, x, y in zip(df_sel['Date_A'], df_sel['Team_A'], df_sel['Opponent_A']):\n",
    "            if (date + x + y) in LUT:\n",
    "                df_new = pd.concat([df_new, pd.DataFrame(columns=['Date_A', 'Team_A', 'Opponent_A'], data=[[date, x, y]])], ignore_index=True)\n",
    "            else:\n",
    "                LUT[date + x + y] = 1\n",
    "                LUT[date + y + x] = 1\n",
    "        df_sel = df_new\n",
    "    \n",
    "    # W/L prediction\n",
    "    X_attri = Y_truth = None\n",
    "    for date, Team_A, Team_B in zip(df_sel['Date_A'], df_sel['Team_A'], df_sel['Opponent_A']):\n",
    "        X_toBePredicted = attriGen(df, date, period, Team_A, Team_B, None, featureSel)\n",
    "        X_groundTruth, Y_groundTruth = groundTruthGen(df, date, Team_A, Team_B, featureSel)\n",
    "        if X_attri is None and Y_truth is None:\n",
    "            X_attri = X_toBePredicted\n",
    "            Y_truth = Y_groundTruth\n",
    "        else:\n",
    "            X_attri = pd.concat([X_attri, X_toBePredicted], ignore_index=True)\n",
    "            Y_truth = pd.concat([Y_truth, Y_groundTruth], ignore_index=True)\n",
    "        \n",
    "    return X_attri, Y_truth"
   ]
  },
  {
   "cell_type": "markdown",
   "metadata": {},
   "source": [
    "## Function - gamePrediction()"
   ]
  },
  {
   "cell_type": "code",
   "execution_count": 6,
   "metadata": {},
   "outputs": [],
   "source": [
    "# @param dfFile: pandas.DataFrame ('nba_preprocessed.csv')\n",
    "# @param modelsLUT: dict in the format of {'modelName': model}\n",
    "# @param dateStart, dateEnd: str in the format of 'YYYY-MM-DD'\n",
    "# @param period: int (Number of previous games to be considered)\n",
    "# @param Team_A, Team_B: str (If both are None, predict all games within the date range)\n",
    "# @param featureSel: int\n",
    "# @return None\n",
    "# gamePrediction() prints the predicted game W/L results.\n",
    "def gamePrediction(dfFile, modelsLUT, dateStart, dateEnd, period=5, Team_A=None, Team_B=None, featureSel=None):\n",
    "    X_attri, Y_truth = gameAttriGen(dfFile, dateStart, dateEnd, period, Team_A, Team_B, featureSel)\n",
    "    \n",
    "    resultLUT, accuLUT = {}, {}\n",
    "    for model in modelsLUT:\n",
    "        resultLUT[model] = modelsLUT[model].predict(X_attri)\n",
    "        accuLUT[model] = accuracy_score(Y_truth, modelsLUT[model].predict(X_attri))\n",
    "    \n",
    "    print('---------- Prediction Accuracy ----------')\n",
    "    print('featureSel =', featureSel)\n",
    "    for x in accuLUT:\n",
    "        print(x, '=', accuLUT[x]*100, '%')\n",
    "    print('------------------------------------')"
   ]
  },
  {
   "cell_type": "code",
   "execution_count": null,
   "metadata": {},
   "outputs": [],
   "source": []
  },
  {
   "cell_type": "code",
   "execution_count": null,
   "metadata": {},
   "outputs": [],
   "source": []
  },
  {
   "cell_type": "code",
   "execution_count": null,
   "metadata": {},
   "outputs": [],
   "source": []
  },
  {
   "cell_type": "code",
   "execution_count": 7,
   "metadata": {},
   "outputs": [
    {
     "name": "stderr",
     "output_type": "stream",
     "text": [
      "/Users/ino/Projects/nbaGamePrediction/env/lib/python3.7/site-packages/sklearn/ensemble/weight_boosting.py:29: DeprecationWarning: numpy.core.umath_tests is an internal NumPy module and should not be imported. It will be removed in a future NumPy release.\n",
      "  from numpy.core.umath_tests import inner1d\n"
     ]
    }
   ],
   "source": [
    "import pickle\n",
    "with open('../modelTraining/Z_gridSearchedModel/2015-08-01_to_2018-04-13_feature3_period5_LogiRegr.pkl', 'rb') as f:\n",
    "    LogiRegrCVGS = pickle.load(f)\n",
    "with open('../modelTraining/Z_gridSearchedModel/2015-08-01_to_2018-04-13_feature3_period5_SVM.pkl', 'rb') as f:\n",
    "    SVMCVGS = pickle.load(f)\n",
    "with open('../modelTraining/Z_gridSearchedModel/2015-08-01_to_2018-04-13_feature3_period5_XGBoost.pkl', 'rb') as f:\n",
    "    XGBoostCVGS = pickle.load(f)\n",
    "with open('../modelTraining/Z_gridSearchedModel/2015-08-01_to_2018-04-13_feature3_period5_RandomForest.pkl', 'rb') as f:\n",
    "    RandomForestCVGS = pickle.load(f)\n",
    "with open('../modelTraining/Z_gridSearchedModel/2015-08-01_to_2018-04-13_feature3_period5_GBDT.pkl', 'rb') as f:\n",
    "    GBDTCVGS = pickle.load(f)\n",
    "with open('../modelTraining/Z_gridSearchedModel/2015-08-01_to_2018-04-13_feature3_period5_AdaBoost.pkl', 'rb') as f:\n",
    "    AdaBoostCVGS = pickle.load(f)"
   ]
  },
  {
   "cell_type": "code",
   "execution_count": 8,
   "metadata": {},
   "outputs": [],
   "source": [
    "modelsLUT = {\n",
    "    'logiRegrCVGS': LogiRegrCVGS,\n",
    "    'supVecMachineCVGS': SVMCVGS,\n",
    "    'xgbcCVGS': XGBoostCVGS,\n",
    "    'randomForestCVGS': RandomForestCVGS,\n",
    "    'gbdtCVGS': GBDTCVGS,\n",
    "    'adaBoostCVGS': AdaBoostCVGS\n",
    "}"
   ]
  },
  {
   "cell_type": "code",
   "execution_count": 9,
   "metadata": {
    "scrolled": true
   },
   "outputs": [
    {
     "name": "stderr",
     "output_type": "stream",
     "text": [
      "/Users/ino/Projects/nbaGamePrediction/env/lib/python3.7/site-packages/sklearn/preprocessing/label.py:151: DeprecationWarning: The truth value of an empty array is ambiguous. Returning False, but in future this will result in an error. Use `array.size > 0` to check that an array is not empty.\n",
      "  if diff:\n",
      "/Users/ino/Projects/nbaGamePrediction/env/lib/python3.7/site-packages/sklearn/preprocessing/label.py:151: DeprecationWarning: The truth value of an empty array is ambiguous. Returning False, but in future this will result in an error. Use `array.size > 0` to check that an array is not empty.\n",
      "  if diff:\n"
     ]
    },
    {
     "name": "stdout",
     "output_type": "stream",
     "text": [
      "---------- Prediction Accuracy ----------\n",
      "featureSel = 3\n",
      "logiRegrCVGS = 70.73170731707317 %\n",
      "supVecMachineCVGS = 71.95121951219512 %\n",
      "xgbcCVGS = 76.82926829268293 %\n",
      "randomForestCVGS = 73.17073170731707 %\n",
      "gbdtCVGS = 65.85365853658537 %\n",
      "adaBoostCVGS = 76.82926829268293 %\n",
      "------------------------------------\n"
     ]
    }
   ],
   "source": [
    "dfFile = '../statsCrawler/nbaGamePair.csv'\n",
    "dateStart = '2018-04-14'\n",
    "dateEnd = '2018-06-08'\n",
    "period = 5\n",
    "Team_A = None\n",
    "Team_B = None\n",
    "featureSel = 3\n",
    "\n",
    "# W/L prediction\n",
    "gamePrediction(dfFile, modelsLUT, dateStart, dateEnd, period, Team_A, Team_B, featureSel)"
   ]
  }
 ],
 "metadata": {
  "kernelspec": {
   "display_name": "nbaGamePrediction",
   "language": "python",
   "name": "nbagameprediction"
  },
  "language_info": {
   "codemirror_mode": {
    "name": "ipython",
    "version": 3
   },
   "file_extension": ".py",
   "mimetype": "text/x-python",
   "name": "python",
   "nbconvert_exporter": "python",
   "pygments_lexer": "ipython3",
   "version": "3.7.0"
  }
 },
 "nbformat": 4,
 "nbformat_minor": 2
}
