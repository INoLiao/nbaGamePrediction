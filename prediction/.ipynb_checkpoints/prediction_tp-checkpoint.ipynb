{
 "cells": [
  {
   "cell_type": "markdown",
   "metadata": {},
   "source": [
    "# Data Mining Final Project - NBA Game Winning Forecasting\n",
    "## Game Prediction - Future Game Prediction"
   ]
  },
  {
   "cell_type": "code",
   "execution_count": 1,
   "metadata": {},
   "outputs": [],
   "source": [
    "# import numpy as np\n",
    "import pandas as pd\n",
    "# import time\n",
    "import warnings\n",
    "warnings.filterwarnings('ignore')\n",
    "from sklearn.metrics import accuracy_score"
   ]
  },
  {
   "cell_type": "markdown",
   "metadata": {},
   "source": [
    "## Function - featureEng()"
   ]
  },
  {
   "cell_type": "code",
   "execution_count": 2,
   "metadata": {},
   "outputs": [],
   "source": [
    "# @param X: pandas.DataFrame\n",
    "# @param featureSel: int\n",
    "# @return X: pandas.DataFrame\n",
    "def featureEng(X, featureSel=None):\n",
    "    # Feature Engineering\n",
    "    if not featureSel or featureSel == 0:\n",
    "        return X\n",
    "    if featureSel == 1:\n",
    "        X['PTS_DIFF'] = X['PTS_A'] - X['PTS_B']\n",
    "    elif featureSel == 2:\n",
    "        attriToDrop = ['PTS_A', 'PTS_B']\n",
    "        X = X.drop(columns=attriToDrop)\n",
    "    elif featureSel == 3:\n",
    "        X['PTS_DIFF'] = X['PTS_A'] - X['PTS_B']\n",
    "        attriToDrop = ['PTS_A', 'PTS_B']\n",
    "        X = X.drop(columns=attriToDrop)\n",
    "    elif featureSel == 4:\n",
    "        attriToDrop = [\n",
    "            'FGM_A', 'FGA_A', '3PM_A', '3PA_A', 'FTM_A', 'FTA_A', 'OREB_A', 'DREB_A', 'PF_A', \n",
    "            'FGM_B', 'FGA_B', '3PM_B', '3PA_B', 'FTM_B', 'FTA_B', 'OREB_B', 'DREB_B', 'PF_B'\n",
    "        ]\n",
    "        X['PTS_DIFF'] = X['PTS_A'] - X['PTS_B']\n",
    "        X['STL+BLK_A'] = X['STL_A'] + X['BLK_A']\n",
    "        X['STL+BLK_B'] = X['STL_B'] + X['BLK_B']\n",
    "        attriToDrop += ['PTS_A', 'PTS_B', 'STL_A', 'STL_B', 'BLK_A', 'BLK_B']\n",
    "        X = X.drop(columns=attriToDrop)\n",
    "    return X"
   ]
  },
  {
   "cell_type": "markdown",
   "metadata": {},
   "source": [
    "## Function - attriGen()"
   ]
  },
  {
   "cell_type": "code",
   "execution_count": 3,
   "metadata": {},
   "outputs": [],
   "source": [
    "# @param dfFile: pandas.DataFrame (from 'nba_preprocessed.csv')\n",
    "# @param date: str in the format of 'YYYY-MM-DD'\n",
    "# @param period: int (Number of previous games to be considered)\n",
    "# @param Team_A, Team_B: str\n",
    "# @param homeAway: int (None for played game prediction)\n",
    "# @param featureSel: int\n",
    "# @return X: pandas.DataFrame\n",
    "def attriGen(df, date, period, Team_A, Team_B, homeAway=None, featureSel=None):\n",
    "    # True Home/Away at the game day\n",
    "    if homeAway is None:\n",
    "        df_gameDay = df.loc[(df.Date_A == date) & (df.Team_A == Team_A) & (df.Team_B == Team_B), :].reset_index(drop=True)\n",
    "        homeAway = int(df_gameDay['Home/Away_A'])\n",
    "    \n",
    "    # Date selections\n",
    "    df = df.loc[df.Date_A < date, :].reset_index(drop=True)\n",
    "    X_A = df.loc[(df.Team_A == Team_A), :].sort_values(by=['Date_A'], ascending=False).iloc[0:period, 0:24].reset_index(drop=True)\n",
    "    X_B = df.loc[(df.Team_A == Team_B), :].sort_values(by=['Date_A'], ascending=False).iloc[0:period, 0:24].reset_index(drop=True)\n",
    "    \n",
    "    # Drop unnecessary attributes\n",
    "    colToDrop = ['Home/Away_A'] + ['Team_A', 'Date_A', 'W/L_A', 'Score_A', 'Opponent_A']\n",
    "    X_A = X_A.drop(columns=colToDrop)\n",
    "    X_B = X_B.drop(columns=colToDrop)\n",
    "    \n",
    "    # Rename X_away's columns\n",
    "    X_B = X_B.rename(columns=lambda x: x[0:-2] + '_B')\n",
    "    \n",
    "    # Get X = [Home/Away_A + X_A + X_B]\n",
    "    X = pd.DataFrame(data=pd.concat([X_A.mean(), X_B.mean()])).transpose()\n",
    "    X = pd.concat([pd.DataFrame(data={'Home/Away_A': [homeAway]}), X], axis=1)\n",
    "    \n",
    "    # Feature Engineering\n",
    "    X = featureEng(X, featureSel)\n",
    "    \n",
    "    return X"
   ]
  },
  {
   "cell_type": "code",
   "execution_count": null,
   "metadata": {},
   "outputs": [],
   "source": []
  },
  {
   "cell_type": "code",
   "execution_count": null,
   "metadata": {},
   "outputs": [],
   "source": []
  },
  {
   "cell_type": "code",
   "execution_count": null,
   "metadata": {},
   "outputs": [],
   "source": []
  },
  {
   "cell_type": "markdown",
   "metadata": {},
   "source": [
    "## Function - futureGamePrediction()"
   ]
  },
  {
   "cell_type": "code",
   "execution_count": 4,
   "metadata": {},
   "outputs": [],
   "source": [
    "# @param homeAway: int (0 if Team_A is away, 1 if Team_A is home)\n",
    "def futureGamePrediction(dfFile, modelsLUT, date, period, Team_A, Team_B, homeAway, featureSel):\n",
    "    df = pd.read_csv(dfFile)\n",
    "    df_sel = df.loc[df.Date_A == date, :].reset_index(drop=True)\n",
    "\n",
    "    if df_sel.empty and (homeAway is None):\n",
    "        print(f'Error: Game not found and Home/Away is not defined.')\n",
    "        print(f'isEmpty = {df_sel.empty}, HomeAway = {homeAway}')\n",
    "        print('Force return w/o actions.')\n",
    "        return None\n",
    "    \n",
    "    # Generate the attributes\n",
    "    X_toBePredicted = attriGen(df, date, period, Team_A, Team_B, homeAway, featureSel)\n",
    "    \n",
    "    # Game prediction\n",
    "    resultLUT = {}\n",
    "    for model in modelsLUT:\n",
    "        resultLUT[model] = modelsLUT[model].predict(X_toBePredicted)\n",
    "    \n",
    "    # Generate prediction report\n",
    "    predictList = [resultLUT[x][0] for x in resultLUT]\n",
    "    voteForWin = sum(predictList)\n",
    "    voteForLoss = len(predictList) - voteForWin\n",
    "    col = ['Date', 'Home/Away_A', 'Team_A', 'Team_B'] + list(resultLUT.keys()) + ['Vote for Win', 'Vote for Loss']\n",
    "    data = [date, homeAway, Team_A, Team_B] + predictList + [voteForWin, voteForLoss] \n",
    "    df_report = pd.DataFrame([data], columns=col)\n",
    "    \n",
    "    return df_report"
   ]
  },
  {
   "cell_type": "code",
   "execution_count": null,
   "metadata": {},
   "outputs": [],
   "source": []
  },
  {
   "cell_type": "code",
   "execution_count": null,
   "metadata": {},
   "outputs": [],
   "source": []
  },
  {
   "cell_type": "code",
   "execution_count": 5,
   "metadata": {},
   "outputs": [],
   "source": [
    "import pickle\n",
    "mode = 1"
   ]
  },
  {
   "cell_type": "code",
   "execution_count": 6,
   "metadata": {},
   "outputs": [
    {
     "name": "stderr",
     "output_type": "stream",
     "text": [
      "/Users/ino/Projects/nbaGamePrediction/env/lib/python3.7/site-packages/sklearn/ensemble/weight_boosting.py:29: DeprecationWarning: numpy.core.umath_tests is an internal NumPy module and should not be imported. It will be removed in a future NumPy release.\n",
      "  from numpy.core.umath_tests import inner1d\n"
     ]
    }
   ],
   "source": [
    "# Model LUT\n",
    "modelsLUT = {}\n",
    "\n",
    "# Specify models\n",
    "models = []\n",
    "models.append('2016-08-01_to_2019-04-10_feature3_period5_LogiRegr')\n",
    "models.append('2016-08-01_to_2019-04-10_feature3_period5_SVM')\n",
    "models.append('2016-08-01_to_2019-04-10_feature3_period5_XGBoost')\n",
    "models.append('2016-08-01_to_2019-04-10_feature3_period5_RandomForest')\n",
    "models.append('2016-08-01_to_2019-04-10_feature3_period5_GBDT')\n",
    "models.append('2016-08-01_to_2019-04-10_feature3_period5_AdaBoost')\n",
    "\n",
    "# Import models\n",
    "modelsName = {}\n",
    "for model in models:\n",
    "    modelsName[model.split('_')[-1]] = model\n",
    "\n",
    "for model in modelsName:\n",
    "    if mode == 0:\n",
    "        with open('../model/Z_trainedModel/' + modelsName[model] + '.pkl', 'rb') as f:\n",
    "            modelsLUT[model] = pickle.load(f)\n",
    "    elif mode == 1:\n",
    "        with open('../model/Z_trainedModel/' + modelsName[model] + '_gs.pkl', 'rb') as f:\n",
    "            modelsLUT[model+'_GS'] = pickle.load(f)\n",
    "    elif mode == 2:\n",
    "        with open('../model/Z_trainedModel/' + modelsName[model] + '.pkl', 'rb') as f:\n",
    "            modelsLUT[model] = pickle.load(f)\n",
    "        with open('../model/Z_trainedModel/' + modelsName[model] + '_gs.pkl', 'rb') as f:\n",
    "            modelsLUT[model+'_GS'] = pickle.load(f)\n",
    "    else:\n",
    "        print('Error: mode should be only 0, 1, or 2')\n",
    "        print('mode = 0: Default models')\n",
    "        print('mode = 1: Grid search models')\n",
    "        print('mode = 2: Default + Grid Search models')\n",
    "        # return None"
   ]
  },
  {
   "cell_type": "code",
   "execution_count": 7,
   "metadata": {},
   "outputs": [
    {
     "data": {
      "text/plain": [
       "{'LogiRegr_GS': LogisticRegression(C=1000, class_weight=None, dual=False, fit_intercept=True,\n",
       "           intercept_scaling=1, max_iter=200, multi_class='ovr', n_jobs=-1,\n",
       "           penalty='l2', random_state=None, solver='liblinear', tol=0.0001,\n",
       "           verbose=0, warm_start=False),\n",
       " 'SVM_GS': SVC(C=0.1, cache_size=200, class_weight=None, coef0=0.0,\n",
       "   decision_function_shape='ovr', degree=3, gamma='auto', kernel='linear',\n",
       "   max_iter=-1, probability=True, random_state=None, shrinking=True,\n",
       "   tol=0.001, verbose=False),\n",
       " 'XGBoost_GS': XGBClassifier(base_score=0.5, booster='gbtree', colsample_bylevel=1,\n",
       "        colsample_bytree=1, gamma=0.3, learning_rate=0.1, max_delta_step=0,\n",
       "        max_depth=3, min_child_weight=1, missing=nan, n_estimators=100,\n",
       "        n_jobs=-1, nthread=None, objective='binary:logistic',\n",
       "        random_state=0, reg_alpha=0, reg_lambda=1, scale_pos_weight=1,\n",
       "        seed=None, silent=True, subsample=1),\n",
       " 'RandomForest_GS': RandomForestClassifier(bootstrap=True, class_weight=None, criterion='entropy',\n",
       "             max_depth=10, max_features='sqrt', max_leaf_nodes=None,\n",
       "             min_impurity_decrease=0.0, min_impurity_split=None,\n",
       "             min_samples_leaf=1, min_samples_split=2,\n",
       "             min_weight_fraction_leaf=0.0, n_estimators=1000, n_jobs=-1,\n",
       "             oob_score=False, random_state=None, verbose=0,\n",
       "             warm_start=False),\n",
       " 'GBDT_GS': GradientBoostingClassifier(criterion='friedman_mse', init=None,\n",
       "               learning_rate=0.1, loss='exponential', max_depth=3,\n",
       "               max_features='log2', max_leaf_nodes=None,\n",
       "               min_impurity_decrease=0.0, min_impurity_split=None,\n",
       "               min_samples_leaf=1, min_samples_split=2,\n",
       "               min_weight_fraction_leaf=0.0, n_estimators=600,\n",
       "               presort='auto', random_state=None, subsample=0.5, verbose=0,\n",
       "               warm_start=False),\n",
       " 'AdaBoost_GS': AdaBoostClassifier(algorithm='SAMME.R', base_estimator=None,\n",
       "           learning_rate=0.3, n_estimators=100, random_state=None)}"
      ]
     },
     "execution_count": 7,
     "metadata": {},
     "output_type": "execute_result"
    }
   ],
   "source": [
    "modelsLUT"
   ]
  },
  {
   "cell_type": "code",
   "execution_count": 9,
   "metadata": {},
   "outputs": [
    {
     "name": "stderr",
     "output_type": "stream",
     "text": [
      "/Users/ino/Projects/nbaGamePrediction/env/lib/python3.7/site-packages/sklearn/preprocessing/label.py:151: DeprecationWarning: The truth value of an empty array is ambiguous. Returning False, but in future this will result in an error. Use `array.size > 0` to check that an array is not empty.\n",
      "  if diff:\n",
      "/Users/ino/Projects/nbaGamePrediction/env/lib/python3.7/site-packages/sklearn/preprocessing/label.py:151: DeprecationWarning: The truth value of an empty array is ambiguous. Returning False, but in future this will result in an error. Use `array.size > 0` to check that an array is not empty.\n",
      "  if diff:\n",
      "/Users/ino/Projects/nbaGamePrediction/env/lib/python3.7/site-packages/sklearn/preprocessing/label.py:151: DeprecationWarning: The truth value of an empty array is ambiguous. Returning False, but in future this will result in an error. Use `array.size > 0` to check that an array is not empty.\n",
      "  if diff:\n",
      "/Users/ino/Projects/nbaGamePrediction/env/lib/python3.7/site-packages/sklearn/preprocessing/label.py:151: DeprecationWarning: The truth value of an empty array is ambiguous. Returning False, but in future this will result in an error. Use `array.size > 0` to check that an array is not empty.\n",
      "  if diff:\n"
     ]
    },
    {
     "data": {
      "text/html": [
       "<div>\n",
       "<style scoped>\n",
       "    .dataframe tbody tr th:only-of-type {\n",
       "        vertical-align: middle;\n",
       "    }\n",
       "\n",
       "    .dataframe tbody tr th {\n",
       "        vertical-align: top;\n",
       "    }\n",
       "\n",
       "    .dataframe thead th {\n",
       "        text-align: right;\n",
       "    }\n",
       "</style>\n",
       "<table border=\"1\" class=\"dataframe\">\n",
       "  <thead>\n",
       "    <tr style=\"text-align: right;\">\n",
       "      <th></th>\n",
       "      <th>Date</th>\n",
       "      <th>Home/Away_A</th>\n",
       "      <th>Team_A</th>\n",
       "      <th>Team_B</th>\n",
       "      <th>LogiRegr_GS</th>\n",
       "      <th>SVM_GS</th>\n",
       "      <th>XGBoost_GS</th>\n",
       "      <th>RandomForest_GS</th>\n",
       "      <th>GBDT_GS</th>\n",
       "      <th>AdaBoost_GS</th>\n",
       "      <th>Vote for Win</th>\n",
       "      <th>Vote for Loss</th>\n",
       "    </tr>\n",
       "  </thead>\n",
       "  <tbody>\n",
       "    <tr>\n",
       "      <th>0</th>\n",
       "      <td>2019-04-23</td>\n",
       "      <td>0</td>\n",
       "      <td>MIL</td>\n",
       "      <td>DET</td>\n",
       "      <td>1</td>\n",
       "      <td>1</td>\n",
       "      <td>1</td>\n",
       "      <td>1</td>\n",
       "      <td>1</td>\n",
       "      <td>1</td>\n",
       "      <td>6</td>\n",
       "      <td>0</td>\n",
       "    </tr>\n",
       "    <tr>\n",
       "      <th>1</th>\n",
       "      <td>2019-04-23</td>\n",
       "      <td>1</td>\n",
       "      <td>DET</td>\n",
       "      <td>MIL</td>\n",
       "      <td>0</td>\n",
       "      <td>0</td>\n",
       "      <td>0</td>\n",
       "      <td>0</td>\n",
       "      <td>0</td>\n",
       "      <td>0</td>\n",
       "      <td>0</td>\n",
       "      <td>6</td>\n",
       "    </tr>\n",
       "    <tr>\n",
       "      <th>2</th>\n",
       "      <td>2019-04-23</td>\n",
       "      <td>1</td>\n",
       "      <td>UTA</td>\n",
       "      <td>HOU</td>\n",
       "      <td>1</td>\n",
       "      <td>1</td>\n",
       "      <td>1</td>\n",
       "      <td>1</td>\n",
       "      <td>1</td>\n",
       "      <td>1</td>\n",
       "      <td>6</td>\n",
       "      <td>0</td>\n",
       "    </tr>\n",
       "    <tr>\n",
       "      <th>3</th>\n",
       "      <td>2019-04-23</td>\n",
       "      <td>0</td>\n",
       "      <td>HOU</td>\n",
       "      <td>UTA</td>\n",
       "      <td>0</td>\n",
       "      <td>0</td>\n",
       "      <td>0</td>\n",
       "      <td>0</td>\n",
       "      <td>0</td>\n",
       "      <td>0</td>\n",
       "      <td>0</td>\n",
       "      <td>6</td>\n",
       "    </tr>\n",
       "  </tbody>\n",
       "</table>\n",
       "</div>"
      ],
      "text/plain": [
       "         Date  Home/Away_A Team_A Team_B  LogiRegr_GS  SVM_GS  XGBoost_GS  \\\n",
       "0  2019-04-23            0    MIL    DET            1       1           1   \n",
       "1  2019-04-23            1    DET    MIL            0       0           0   \n",
       "2  2019-04-23            1    UTA    HOU            1       1           1   \n",
       "3  2019-04-23            0    HOU    UTA            0       0           0   \n",
       "\n",
       "   RandomForest_GS  GBDT_GS  AdaBoost_GS  Vote for Win  Vote for Loss  \n",
       "0                1        1            1             6              0  \n",
       "1                0        0            0             0              6  \n",
       "2                1        1            1             6              0  \n",
       "3                0        0            0             0              6  "
      ]
     },
     "execution_count": 9,
     "metadata": {},
     "output_type": "execute_result"
    }
   ],
   "source": [
    "dfFile = '../crawler/nbaGamePair.csv'\n",
    "date = ['2019-04-23', '2019-04-23', '2019-04-23', '2019-04-23']\n",
    "period = 5\n",
    "Team_A = ['MIL', 'DET', 'UTA', 'HOU']\n",
    "Team_B = ['DET', 'MIL', 'HOU', 'UTA']\n",
    "homeAway = [0, 1, 1, 0] # 0 if Team_A is away, 1 if Team_B is home\n",
    "featureSel = 3\n",
    "\n",
    "# W/L prediction (w.r.t Team_A: vote for Team_A's win or loss)\n",
    "i = 0\n",
    "for date, Team_A, Team_B, homeAway in zip(date, Team_A, Team_B, homeAway):\n",
    "    df_single = futureGamePrediction(dfFile, modelsLUT, date, period, Team_A, Team_B, homeAway, featureSel)\n",
    "    if i == 0:\n",
    "        df_all = df_single\n",
    "    else:\n",
    "        df_all = pd.concat([df_all, df_single], ignore_index=True)\n",
    "    i += 1\n",
    "\n",
    "df_all"
   ]
  }
 ],
 "metadata": {
  "kernelspec": {
   "display_name": "nbaGamePrediction",
   "language": "python",
   "name": "nbagameprediction"
  },
  "language_info": {
   "codemirror_mode": {
    "name": "ipython",
    "version": 3
   },
   "file_extension": ".py",
   "mimetype": "text/x-python",
   "name": "python",
   "nbconvert_exporter": "python",
   "pygments_lexer": "ipython3",
   "version": "3.7.0"
  }
 },
 "nbformat": 4,
 "nbformat_minor": 2
}
