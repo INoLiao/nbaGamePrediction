{
 "cells": [
  {
   "cell_type": "markdown",
   "metadata": {},
   "source": [
    "# Check List\n",
    "- NBA Team Stats Crawling (Done)\n",
    "    1. Raw data crawling: nbaStatsCrawler.py\n",
    "    2. Data reformation: nbaStatsCrawler.py\n",
    "    3. Save nbaGamePair.csv: nbaGamePair.py\n",
    "    \n",
    "    \n",
    "- Model Training\n",
    "    1. Grid search (Done)\n",
    "    2. Model training (Done)\n",
    "        - Retrieved saved model\n",
    "        - Train model and save trained model\n",
    "    3. Model evaluation (Done)\n",
    "    \n",
    "    \n",
    "- NBA Game Prediction\n",
    "    1. Predict games and save results\n",
    "    2. Create a spreadsheet summarizing all predictions and facts to do evaluation.\n",
    "    \n",
    "    "
   ]
  }
 ],
 "metadata": {
  "kernelspec": {
   "display_name": "Python 3",
   "language": "python",
   "name": "python3"
  },
  "language_info": {
   "codemirror_mode": {
    "name": "ipython",
    "version": 3
   },
   "file_extension": ".py",
   "mimetype": "text/x-python",
   "name": "python",
   "nbconvert_exporter": "python",
   "pygments_lexer": "ipython3",
   "version": "3.7.0"
  }
 },
 "nbformat": 4,
 "nbformat_minor": 2
}
