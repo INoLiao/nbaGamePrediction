{
 "cells": [
  {
   "cell_type": "markdown",
   "metadata": {},
   "source": [
    "# NBA Game Prediction Readme\n",
    "### 1. Scraping box scores from NBA official site: ./statsCrawler/nbaStatsCrawler.py\n",
    "- #### Run the following on the terminal \n",
    "    > python nbaStatsCrawler.py -sy='2017-18' -st='RegularSeason' -ds='2018-04-01' -pn=10\n",
    "\n",
    "- #### Argument explanation\n",
    "    - ##### '--webDriPath' = '-wdp': Path of chromedriver\n",
    "        - default = '/Users/ltc/Projects/webDriver/chromedriver'\n",
    "    - ##### '--outPathRaw' = '-opr': Raw box output path\n",
    "        - default = './Z_raw/'\n",
    "    - ##### '--outPathArranged' = '-opa': Arranged box output path\n",
    "        - default = './Z_arranged/'\n",
    "    - ##### '--seasonYear' = '-sy': Specify the season to be scraped\n",
    "        - default = '2017-18'\n",
    "    - ##### '--seasonType' = -st': Specify the season type ('Preseason', 'RegularSeason', 'Playoffs', 'All-Star') \n",
    "        - default = 'RegularSeason'\n",
    "    - ##### '--dateStart' = '-ds': Scrape box from date of 'dateStart' to present\n",
    "        - default = '2018-04-01'\n",
    "    - ##### '--pageNum' = '-pn': Specify number of pages to be scraped\n",
    "        - default = 5\n",
    "    - ##### '--loadTime' = '-lt': Waiting time for web loading\n",
    "        - default = 2\n",
    "\n",
    "### 2. Create/Update nbaGamePair.csv: ./statsCrawler/nbaGamePair.py\n",
    "- #### Run the following on the terminal \n",
    "    > python nbaGamePair.py -if='./Z_arranged/2018-08-22-h19m50s28_2017-18_RegularSeason.csv' -ia=1\n",
    "\n",
    "- #### Argument explanation\n",
    "    - ##### '--inFile' = '-if': Input file\n",
    "        - No default, one must specify the input file\n",
    "    - ##### '--outFile' = '-of': Output file\n",
    "        - default = './nbaGamePair.csv'\n",
    "    - ##### '--isAppend' = '-ia': Append to the existing file or replace it\n",
    "        - default = 1\n",
    "        \n",
    "### 3. Grid Search: ./modelTraining/gridSearh.py\n",
    "- #### Run the following on the terminal \n",
    "    > python gridSearch.py -ds='2017-08-01' -de='2018-04-13' -pd=5 -fs=3\n",
    "\n",
    "- #### Argument explanation\n",
    "    - ##### '--inFile' = '-if': Input file\n",
    "        - default = '../statsCrawler/nbaGamePair.csv'\n",
    "    - ##### '--outPath' = '-op': Output path\n",
    "        - default = './Z_gridSearchedModel/'\n",
    "    - ##### '--dataStart' = '-ds': Specify starting date for training\n",
    "        - No default\n",
    "    - ##### '--dataEnd' = '-de': Specify ending date for training\n",
    "        - No default\n",
    "    - ##### '--period' = '-pd': Specify number of games being averaged as an attribute\n",
    "        - Default = 5\n",
    "    - ##### '--featureSel' = '-fs': Specify 'featureSel'\n",
    "        - Default = 3"
   ]
  }
 ],
 "metadata": {
  "kernelspec": {
   "display_name": "Python 3",
   "language": "python",
   "name": "python3"
  },
  "language_info": {
   "codemirror_mode": {
    "name": "ipython",
    "version": 3
   },
   "file_extension": ".py",
   "mimetype": "text/x-python",
   "name": "python",
   "nbconvert_exporter": "python",
   "pygments_lexer": "ipython3",
   "version": "3.6.4"
  }
 },
 "nbformat": 4,
 "nbformat_minor": 2
}
